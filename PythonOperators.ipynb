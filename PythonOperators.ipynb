{
 "cells": [
  {
   "cell_type": "code",
   "execution_count": 3,
   "id": "a07c9100-60d1-4b4f-b3b0-c0a67a42629f",
   "metadata": {},
   "outputs": [
    {
     "name": "stdout",
     "output_type": "stream",
     "text": [
      "Sum: 25\n",
      "Difference: 5\n",
      "Product: 150\n",
      "Quotient: 1.5\n"
     ]
    }
   ],
   "source": [
    "#1 Calculate the sum, difference, product, and qotient of two numbers.\n",
    "num1 = 15\n",
    "num2 = 10\n",
    "\n",
    "# Sum\n",
    "sum_result = num1 + num2\n",
    "\n",
    "# Difference\n",
    "difference_result = num1 - num2\n",
    "\n",
    "# Product\n",
    "product_result = num1 * num2\n",
    "\n",
    "# Quotient \n",
    "quotient_result = num1 / num2\n",
    "\n",
    "# Output\n",
    "print(\"Sum:\", sum_result)\n",
    "print(\"Difference:\", difference_result)\n",
    "print(\"Product:\", product_result)\n",
    "print(\"Quotient:\", quotient_result)"
   ]
  },
  {
   "cell_type": "code",
   "execution_count": 6,
   "id": "ad250cf7-98a9-4a46-9b66-660d727ba046",
   "metadata": {},
   "outputs": [
    {
     "name": "stdout",
     "output_type": "stream",
     "text": [
      "Initial value of x: 10\n",
      "After addition assignment (x += 5): 15\n",
      "After subtraction assignment (x -= 3): 12\n",
      "After multiplication assignment (x *= 2): 24\n",
      "After division assignment (x /= 4): 6.0\n",
      "After modulus assignment (x %= 3): 0.0\n",
      "After exponentiation assignment (a **= 2): 25\n",
      "After floor division assignment (a //= 5): 5\n"
     ]
    }
   ],
   "source": [
    "#2 Perform various assignment operations on a variable.\n",
    "x = 10\n",
    "print(\"Initial value of x:\", x)\n",
    "\n",
    "# Addition assignment\n",
    "x += 5\n",
    "print(\"After addition assignment (x += 5):\", x)\n",
    "\n",
    "# Subtraction assignment\n",
    "x -= 3\n",
    "print(\"After subtraction assignment (x -= 3):\", x)\n",
    "\n",
    "# Multiplication assignment\n",
    "x *= 2\n",
    "print(\"After multiplication assignment (x *= 2):\", x)\n",
    "\n",
    "# Division assignment\n",
    "x /= 4\n",
    "print(\"After division assignment (x /= 4):\", x)\n",
    "\n",
    "# Modulus assignment\n",
    "x %= 3\n",
    "print(\"After modulus assignment (x %= 3):\", x)\n",
    "\n",
    "# Exponentiation assignment\n",
    "a=5\n",
    "a **= 2\n",
    "print(\"After exponentiation assignment (a **= 2):\", a)\n",
    "\n",
    "# Floor division assignment\n",
    "a //= 5\n",
    "print(\"After floor division assignment (a //= 5):\", a)"
   ]
  },
  {
   "cell_type": "code",
   "execution_count": 9,
   "id": "20590a43-53da-47a4-908d-9054a6ba25be",
   "metadata": {},
   "outputs": [
    {
     "name": "stdin",
     "output_type": "stream",
     "text": [
      "Enter the first number:  5\n",
      "Enter the second number:  6\n"
     ]
    },
    {
     "name": "stdout",
     "output_type": "stream",
     "text": [
      "5.0 is less than 6.0\n"
     ]
    }
   ],
   "source": [
    "#3 Compare two numbers and print the results.\n",
    "num1 = float(input(\"Enter the first number: \"))\n",
    "num2 = float(input(\"Enter the second number: \"))\n",
    "\n",
    "# Comparison\n",
    "if num1 > num2:\n",
    "    print(num1, \"is greater than\", num2)\n",
    "elif num1 < num2:\n",
    "    print(num1, \"is less than\", num2)\n",
    "else:\n",
    "    print(num1, \"is equal to\", num2)"
   ]
  },
  {
   "cell_type": "code",
   "execution_count": null,
   "id": "224afb79-a817-4e49-ba89-89bbd4db0f2e",
   "metadata": {},
   "outputs": [],
   "source": [
    "#4 Check conditions using logical operators.\n",
    "# Example values\n",
    "x = 5\n",
    "y = 10\n",
    "\n",
    "if x > 0 and y > 0:\n",
    "    print(\"Both x and y are positive.\")\n",
    "\n",
    "if x > 0 or y > 0:\n",
    "    print(\"At least one of x or y is positive.\")\n",
    "\n",
    "if not (x < 0):\n",
    "    print(\"x is not negative.\")\n",
    "\n",
    "if x == 5 and y != 5:\n",
    "    print(\"x is 5 and y is not 5.\")"
   ]
  },
  {
   "cell_type": "code",
   "execution_count": 10,
   "id": "887e690d-980d-4e4d-a81c-ce6bd8d23f46",
   "metadata": {},
   "outputs": [
    {
     "name": "stdout",
     "output_type": "stream",
     "text": [
      "x and y have the same identity.\n",
      "z and w have the same identity.\n"
     ]
    }
   ],
   "source": [
    "#5 Check the identity of variables.\n",
    "x = 5\n",
    "y = 5\n",
    "z = [1, 2, 3]\n",
    "w = z\n",
    "\n",
    "if x is y:\n",
    "    print(\"x and y have the same identity.\")\n",
    "else:\n",
    "    print(\"x and y do not have the same identity.\")\n",
    "\n",
    "if z is w:\n",
    "    print(\"z and w have the same identity.\")\n",
    "else:\n",
    "    print(\"z and w do not have the same identity.\")"
   ]
  },
  {
   "cell_type": "code",
   "execution_count": 11,
   "id": "f90e16f9-f80d-44e1-8ac4-d5852f25ea47",
   "metadata": {},
   "outputs": [
    {
     "name": "stdout",
     "output_type": "stream",
     "text": [
      "Bitwise AND: 0\n",
      "Bitwise OR: 15\n",
      "Bitwise NOT of num1: -11\n",
      "Bitwise NOT of num2: -6\n"
     ]
    }
   ],
   "source": [
    "#6 Perform bitwise operations on any two integers.\n",
    "num1 = 10\n",
    "num2 = 5\n",
    "\n",
    "# Bitwise AND\n",
    "bitwise_and = num1 & num2\n",
    "print(\"Bitwise AND:\", bitwise_and)\n",
    "\n",
    "# Bitwise OR\n",
    "bitwise_or = num1 | num2\n",
    "print(\"Bitwise OR:\", bitwise_or)\n",
    "\n",
    "# Bitwise NOT (unary complement)\n",
    "bitwise_not_num1 = ~num1\n",
    "bitwise_not_num2 = ~num2\n",
    "print(\"Bitwise NOT of num1:\", bitwise_not_num1)\n",
    "print(\"Bitwise NOT of num2:\", bitwise_not_num2)\n"
   ]
  },
  {
   "cell_type": "code",
   "execution_count": 12,
   "id": "12ab5608-8fcf-4aa5-ae6b-79077c7b4bcc",
   "metadata": {},
   "outputs": [
    {
     "name": "stdout",
     "output_type": "stream",
     "text": [
      "Original number: 10\n",
      "Number after changing the sign: -10\n"
     ]
    }
   ],
   "source": [
    "#7 Use unary operators to change the sign of a number.\n",
    "number = 10\n",
    "negated_number = -number\n",
    "\n",
    "print(\"Original number:\", number)\n",
    "print(\"Number after changing the sign:\", negated_number)"
   ]
  },
  {
   "cell_type": "code",
   "execution_count": null,
   "id": "6e70e698-b2fe-45f9-b358-68b20ed798fd",
   "metadata": {},
   "outputs": [],
   "source": [
    "#8 Use the ternary operator to assign values based on conditions.\n",
    "x = 10\n",
    "y = 20\n",
    "\n",
    "result = \"x is greater than y\" if x > y else \"x is less than or equal to y\"\n",
    "\n",
    "print(result)"
   ]
  }
 ],
 "metadata": {
  "kernelspec": {
   "display_name": "Python 3 (ipykernel)",
   "language": "python",
   "name": "python3"
  },
  "language_info": {
   "codemirror_mode": {
    "name": "ipython",
    "version": 3
   },
   "file_extension": ".py",
   "mimetype": "text/x-python",
   "name": "python",
   "nbconvert_exporter": "python",
   "pygments_lexer": "ipython3",
   "version": "3.10.8"
  }
 },
 "nbformat": 4,
 "nbformat_minor": 5
}
