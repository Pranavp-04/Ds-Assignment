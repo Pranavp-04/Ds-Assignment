{
 "cells": [
  {
   "cell_type": "code",
   "execution_count": 14,
   "id": "6577f1b7-8c05-474f-a9a7-f6c35ca425f4",
   "metadata": {
    "tags": []
   },
   "outputs": [
    {
     "name": "stdout",
     "output_type": "stream",
     "text": [
      "2.0\n"
     ]
    }
   ],
   "source": [
    "#1 Covert a iteger to a floatig-poit umber.\n",
    "\n",
    "num = 2\n",
    "floting = float(num)\n",
    "print(floting)"
   ]
  },
  {
   "cell_type": "code",
   "execution_count": 17,
   "id": "8be96afb-f37d-4762-9434-a8ece90037a2",
   "metadata": {},
   "outputs": [
    {
     "name": "stdout",
     "output_type": "stream",
     "text": [
      "3\n"
     ]
    }
   ],
   "source": [
    "#2 Covert a float to a iteger.\n",
    "num = 3.0\n",
    "inum = int(num)\n",
    "print(inum)"
   ]
  },
  {
   "cell_type": "code",
   "execution_count": 21,
   "id": "9db1636a-44ff-4aad-83c6-44653cd4fd02",
   "metadata": {},
   "outputs": [
    {
     "name": "stdout",
     "output_type": "stream",
     "text": [
      "3\n"
     ]
    },
    {
     "data": {
      "text/plain": [
       "str"
      ]
     },
     "execution_count": 21,
     "metadata": {},
     "output_type": "execute_result"
    }
   ],
   "source": [
    "#3 Covert a integer to a strig.\n",
    "num = 3\n",
    "s = str(num)\n",
    "print(s)\n",
    "type(s)"
   ]
  },
  {
   "cell_type": "code",
   "execution_count": 27,
   "id": "c87fd240-a07a-45de-a8d8-0721e99df053",
   "metadata": {},
   "outputs": [
    {
     "name": "stdout",
     "output_type": "stream",
     "text": [
      "(1, 2, 3, 4, 5)\n"
     ]
    }
   ],
   "source": [
    "#4 Covert a list to a tuple.\n",
    "my_list = [1, 2, 3, 4, 5]\n",
    "my_tuple = tuple(my_list)\n",
    "print(my_tuple)"
   ]
  },
  {
   "cell_type": "code",
   "execution_count": 26,
   "id": "585a0c14-4589-4375-8a98-869d9c93ff1d",
   "metadata": {},
   "outputs": [
    {
     "name": "stdout",
     "output_type": "stream",
     "text": [
      "list[1, 2, 3, 4, 5]\n"
     ]
    }
   ],
   "source": [
    "#5 Covert a tuple to a list.\n",
    "my_tuple = (1, 2, 3, 4, 5)\n",
    "my_list = list[my_tuple]\n",
    "print(my_list)"
   ]
  },
  {
   "cell_type": "code",
   "execution_count": 15,
   "id": "38ad9b51-05e5-4e55-9193-4137f18551f7",
   "metadata": {},
   "outputs": [
    {
     "name": "stdout",
     "output_type": "stream",
     "text": [
      "0b101010\n"
     ]
    }
   ],
   "source": [
    "#6 Covert a decimal umber to biary.\n",
    "\n",
    "decimal_num = 42\n",
    "my_binary = bin(decimal_num)\n",
    "print(my_binary)"
   ]
  },
  {
   "cell_type": "code",
   "execution_count": 16,
   "id": "a64ce65a-7ba7-42cb-8e71-30cff23c91c9",
   "metadata": {},
   "outputs": [
    {
     "name": "stdout",
     "output_type": "stream",
     "text": [
      "Boolean value of 41 is True\n"
     ]
    }
   ],
   "source": [
    "#7 Covert a o-zero umber to boolean.\n",
    "num1 = 41\n",
    "my_boolean = bool(num1)\n",
    "print(\"Boolean value of\" , num1, \"is\", my_boolean)"
   ]
  }
 ],
 "metadata": {
  "kernelspec": {
   "display_name": "Python 3 (ipykernel)",
   "language": "python",
   "name": "python3"
  },
  "language_info": {
   "codemirror_mode": {
    "name": "ipython",
    "version": 3
   },
   "file_extension": ".py",
   "mimetype": "text/x-python",
   "name": "python",
   "nbconvert_exporter": "python",
   "pygments_lexer": "ipython3",
   "version": "3.10.8"
  }
 },
 "nbformat": 4,
 "nbformat_minor": 5
}
