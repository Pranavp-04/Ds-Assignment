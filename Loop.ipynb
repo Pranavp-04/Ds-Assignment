{
 "cells": [
  {
   "cell_type": "code",
   "execution_count": null,
   "id": "3ad481f9-623a-4a14-9ab2-13f8033555e1",
   "metadata": {},
   "outputs": [],
   "source": [
    "#1 Print nmber from 1 to 5 using a while loop.\n",
    "i = 1\n",
    "while i <= 5:\n",
    "    print(i)\n",
    "    i += 1 "
   ]
  },
  {
   "cell_type": "code",
   "execution_count": null,
   "id": "c2eca8a3-a7eb-4f33-b2f1-0871e7f45ebb",
   "metadata": {},
   "outputs": [],
   "source": [
    "#2 Calclate the m of nmber from 1 to 10 using a while loop.\n",
    "num = 1\n",
    "total = 0\n",
    "\n",
    "while num <= 10:\n",
    "    total += num\n",
    "    num += 1\n",
    "    \n",
    "print(\"The sum of numbers from 1 to 10 is:\", total)"
   ]
  },
  {
   "cell_type": "code",
   "execution_count": null,
   "id": "b5cdda92-045d-42c1-bde9-a3e34cb5e7eb",
   "metadata": {},
   "outputs": [],
   "source": [
    "#3 Calclate the factorial of a nmber using a for loop.\n",
    "number = int(input(\"Enter a number: \"))\n",
    "factorial = 1\n",
    "for i in range(1, number + 1):\n",
    "    factorial *= i\n",
    "\n",
    "# Print the result\n",
    "print(\"The factorial of\", number, \"is:\", factorial)"
   ]
  },
  {
   "cell_type": "code",
   "execution_count": null,
   "id": "374bd3ca-ad80-434f-ae0c-41557d60a79e",
   "metadata": {},
   "outputs": [],
   "source": [
    "#4 Cont the nmber of vowel in a tring using a for loop.\n",
    "string = input(\"Enter a string: \")\n",
    "vowel_count = 0\n",
    "vowels = {'a', 'e', 'i', 'o', 'u'}\n",
    "\n",
    "for char in string:\n",
    "    if char.lower() in vowels:\n",
    "        vowel_count += 1\n",
    "\n",
    "print(\"The number of vowels in the string is:\", vowel_count)"
   ]
  },
  {
   "cell_type": "code",
   "execution_count": null,
   "id": "24e6a7d1-5473-45d1-8fbb-b67baa0cccd5",
   "metadata": {},
   "outputs": [],
   "source": [
    "#5 Print a pattern using neted loop.\n",
    "rows = 5\n",
    "for i in range(1, rows + 1):\n",
    "    for j in range(1, rows - i + 1):\n",
    "        print(\" \", end=\"\")\n",
    "    \n",
    "    for k in range(1, i + 1):\n",
    "        print(\"*\", end=\"\")\n",
    "    \n",
    "    print()"
   ]
  },
  {
   "cell_type": "code",
   "execution_count": null,
   "id": "541457b0-6ff0-4d28-9b8e-caa22f94c23a",
   "metadata": {},
   "outputs": [],
   "source": [
    "#6 Generate a mltiplication table using neted loop.\n",
    "table_size = 10\n",
    "\n",
    "for i in range(1, table_size + 1):\n",
    "    for j in range(1, table_size + 1):\n",
    "        product = i * j\n",
    "        \n",
    "        print(f\"{i} * {j} = {product}\", end=\"\\t\")\n",
    "    \n",
    "    print()\n"
   ]
  }
 ],
 "metadata": {
  "kernelspec": {
   "display_name": "Python 3 (ipykernel)",
   "language": "python",
   "name": "python3"
  },
  "language_info": {
   "codemirror_mode": {
    "name": "ipython",
    "version": 3
   },
   "file_extension": ".py",
   "mimetype": "text/x-python",
   "name": "python",
   "nbconvert_exporter": "python",
   "pygments_lexer": "ipython3",
   "version": "3.10.8"
  }
 },
 "nbformat": 4,
 "nbformat_minor": 5
}
